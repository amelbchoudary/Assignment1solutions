{
 "cells": [
  {
   "cell_type": "markdown",
   "metadata": {},
   "source": [
    "# BASIC DATA TYPES"
   ]
  },
  {
   "cell_type": "markdown",
   "metadata": {},
   "source": [
    "1. TUPLES EXERCISE"
   ]
  },
  {
   "cell_type": "code",
   "execution_count": null,
   "metadata": {},
   "outputs": [],
   "source": [
    "\n",
    "if __name__ == '__main__':\n",
    "    n = int(input())\n",
    "    integer_list = map(int, input().split())\n",
    "    #we form a tuple \n",
    "    t = tuple(integer_list)\n",
    "    print(hash(t))\n"
   ]
  },
  {
   "cell_type": "markdown",
   "metadata": {},
   "source": [
    "2) LISTS EXERCISE:"
   ]
  },
  {
   "cell_type": "code",
   "execution_count": null,
   "metadata": {},
   "outputs": [],
   "source": [
    "if __name__ == '__main__':\n",
    "    N = int(input())\n",
    "    l=[]\n",
    "    for i in range(N):\n",
    "        n= input().split()\n",
    "        if \"insert\" == str(n[0]):\n",
    "            \n",
    "            l.insert(int(n[1]),int(n[2]))\n",
    "            \n",
    "      \n",
    "        elif \"print\" == str(n[0]):\n",
    "            print(l)\n",
    "        \n",
    "       \n",
    "        "
   ]
  },
  {
   "cell_type": "markdown",
   "metadata": {},
   "source": [
    "3) NESTED LISTS EXERCISE:"
   ]
  },
  {
   "cell_type": "code",
   "execution_count": null,
   "metadata": {},
   "outputs": [],
   "source": [
    "Records= []\n",
    "score1 = []\n",
    "    \n",
    "if __name__ == '__main__':\n",
    "    \n",
    "    for _ in range(int(input())):\n",
    "        name = input()\n",
    "        score = float(input())\n",
    "        Records.append([name,score]) #to add new students to list\n",
    "        #to make a list of only scores\n",
    "        score1.append(score)\n",
    "#now we want to make a new list of just score so we can sort them into order\n",
    "    \n",
    "newlist_score=[]\n",
    "for i in range(len(score1)):\n",
    "    if score1[i] != min(score1):\n",
    "        newlist_score.append(score1[i])\n",
    "        #name with 2nd lowest marks\n",
    "    \n",
    "        \n",
    "        \n",
    "lowestmarks = min(newlist_score)\n",
    "secondlowest = []\n",
    "for i in range(len(Records)):\n",
    "    if Records[i][1]== lowestmarks:\n",
    "        \n",
    "        \n",
    "        secondlowest.append(Records[i][0])\n",
    "    \n",
    "        \n",
    "for name in sorted(secondlowest):\n",
    "    \n",
    "    \n",
    "    print(name)"
   ]
  },
  {
   "cell_type": "markdown",
   "metadata": {},
   "source": [
    "4) LIST COMPREHENSIONS EXERCISE:"
   ]
  },
  {
   "cell_type": "code",
   "execution_count": null,
   "metadata": {},
   "outputs": [],
   "source": [
    "if __name__ == '__main__':\n",
    "    x = int(input())\n",
    "    y = int(input())\n",
    "    z = int(input())\n",
    "    n = int(input())\n",
    "    print([[i,j,k] for i in range(x+1) for j in range(y+1) for k in range(z+1) if(i+j+k) != n])\n"
   ]
  },
  {
   "cell_type": "markdown",
   "metadata": {},
   "source": [
    "5) FINDING THE PERCENTAGE EXERCISE"
   ]
  },
  {
   "cell_type": "code",
   "execution_count": null,
   "metadata": {},
   "outputs": [],
   "source": [
    "if __name__ == '__main__':\n",
    "    n = int(input())\n",
    "    student_marks = {}\n",
    "    \n",
    "    for _ in range(n):\n",
    "        name, *line = input().split()\n",
    "        scores = list(map(float, line))\n",
    "        student_marks[name] = scores\n",
    "    query_name = input()\n",
    "    \n",
    "   # step 1: ,mathematical formula to solve the question\n",
    "    average = sum(student_marks[query_name])/len(student_marks[name])\n",
    "    #print answer\n",
    "    print(\"%.2f\"%average)"
   ]
  },
  {
   "cell_type": "markdown",
   "metadata": {},
   "source": [
    " # STRINGS"
   ]
  },
  {
   "cell_type": "markdown",
   "metadata": {},
   "source": [
    "1) sWAP cASE exercise"
   ]
  },
  {
   "cell_type": "code",
   "execution_count": null,
   "metadata": {},
   "outputs": [],
   "source": [
    "def swap_case(s):\n",
    "    return s.swapcase()\n"
   ]
  },
  {
   "cell_type": "markdown",
   "metadata": {},
   "source": [
    "2) WHAT'S YOUR NAME EXERCISE"
   ]
  },
  {
   "cell_type": "code",
   "execution_count": null,
   "metadata": {},
   "outputs": [],
   "source": [
    "# Complete the 'print_full_name' function below.\n",
    "# The function is expected to return a STRING.\n",
    "# The function accepts following parameters:\n",
    "#  1. STRING first\n",
    "#  2. STRING last\n",
    "\n",
    "def print_full_name(first, last):\n",
    "\n",
    "    print(f'Hello {first} {last}! You just delved into python.')\n",
    "    \n"
   ]
  },
  {
   "cell_type": "markdown",
   "metadata": {},
   "source": [
    "3) STRING SPLIT AND JOIN EXERCISE"
   ]
  },
  {
   "cell_type": "code",
   "execution_count": null,
   "metadata": {},
   "outputs": [],
   "source": [
    "def split_and_join(line):\n",
    "    \n",
    "    # write your code here\n",
    "    #first we split string\n",
    "    line=line.split(\" \")\n",
    "    \n",
    "    \n",
    "    #to join a string\n",
    "    line= \"-\".join(line)\n",
    "    return line\n",
    "    \n",
    "\n",
    "if __name__ == '__main__':\n",
    "    line = input()\n",
    "    result = split_and_join(line)\n",
    "    print(result)\n",
    "    \n"
   ]
  },
  {
   "cell_type": "markdown",
   "metadata": {},
   "source": [
    "4) MUTATIONS EXERCISE"
   ]
  },
  {
   "cell_type": "code",
   "execution_count": null,
   "metadata": {},
   "outputs": [],
   "source": [
    "def mutate_string(string, position, character):\n",
    "    l= list(string)\n",
    "    l[position] = character\n",
    "    string= ''.join(l)\n",
    "    return string\n",
    "    "
   ]
  },
  {
   "cell_type": "markdown",
   "metadata": {},
   "source": [
    "5) TEXT WRAP EXERCISE"
   ]
  },
  {
   "cell_type": "code",
   "execution_count": null,
   "metadata": {},
   "outputs": [],
   "source": [
    "def wrap(string, max_width):\n",
    "    \n",
    "    return textwrap.fill(string,max_width)\n"
   ]
  },
  {
   "cell_type": "markdown",
   "metadata": {},
   "source": [
    "# SETS"
   ]
  },
  {
   "cell_type": "markdown",
   "metadata": {},
   "source": [
    "1) SET.ADD() EXERCISE"
   ]
  },
  {
   "cell_type": "code",
   "execution_count": null,
   "metadata": {},
   "outputs": [],
   "source": [
    "n = int(input())\n",
    "s = set()\n",
    "for i in range(n):\n",
    "    s.add(input())\n",
    "    \n",
    "print(len(s))\n"
   ]
  },
  {
   "cell_type": "markdown",
   "metadata": {},
   "source": [
    "2) SYMMETRIC DIFFERENCE EXERCISE"
   ]
  },
  {
   "cell_type": "code",
   "execution_count": null,
   "metadata": {},
   "outputs": [],
   "source": [
    "n=int(input())\n",
    "first_set = set(map(int, input().split()))\n",
    "m = int(input())\n",
    "second_set = set(map(int, input().split()))\n",
    "third_set = (first_set.difference(second_set)).union(second_set.difference(first_set))\n",
    "print(*list(sorted(third_set)),sep = \"\\n\")\n",
    "\n"
   ]
  },
  {
   "cell_type": "markdown",
   "metadata": {},
   "source": [
    "3) SET.UNION() EXERCISE"
   ]
  },
  {
   "cell_type": "code",
   "execution_count": null,
   "metadata": {},
   "outputs": [],
   "source": [
    "x = int(input())\n",
    "a = set(map(int,input().split()))\n",
    "\n",
    "y = int(input())\n",
    "b = set(map(int,input().split()))\n",
    "ab =a.union(b)\n",
    "print(len(ab))\n"
   ]
  },
  {
   "cell_type": "markdown",
   "metadata": {},
   "source": [
    "4) SET.INTERSECTION()"
   ]
  },
  {
   "cell_type": "code",
   "execution_count": null,
   "metadata": {},
   "outputs": [],
   "source": [
    "\n",
    "x = int(input())\n",
    "set1 = set(map(int,input().split()))\n",
    "\n",
    "y = int(input())\n",
    "set2 = set(map(int,input().split()))\n",
    "\n",
    "print(len(set1.intersection(set2)))\n",
    "\n"
   ]
  },
  {
   "cell_type": "markdown",
   "metadata": {},
   "source": [
    "# MATH"
   ]
  },
  {
   "cell_type": "markdown",
   "metadata": {},
   "source": [
    "1) POWER-MOD POWER EXERCISE"
   ]
  },
  {
   "cell_type": "code",
   "execution_count": null,
   "metadata": {},
   "outputs": [],
   "source": [
    "a = int(input())\n",
    "b = int(input())\n",
    "m = int(input())\n",
    "print(pow(a,b))\n",
    "print(pow(a,b,m))\n"
   ]
  },
  {
   "cell_type": "markdown",
   "metadata": {},
   "source": [
    "2) MOD DIVMOD EXERCISE"
   ]
  },
  {
   "cell_type": "code",
   "execution_count": null,
   "metadata": {},
   "outputs": [],
   "source": [
    "# divmod command used to (a,b)\n",
    "a = int(input())\n",
    "b = int(input())\n",
    "\n",
    "print(a//b)\n",
    "print(a % b)\n",
    "print(divmod(a,b))\n"
   ]
  },
  {
   "cell_type": "markdown",
   "metadata": {},
   "source": [
    "3) INTEGERS COME IN ALL SIZES EXERCISE"
   ]
  },
  {
   "cell_type": "code",
   "execution_count": null,
   "metadata": {},
   "outputs": [],
   "source": [
    "a= int(input())\n",
    "b = int(input())\n",
    "c = int(input())\n",
    "d = int(input())\n",
    "\n",
    "#now we need to make a math equation to solve the problem\n",
    "#a^b + b^c\n",
    "print(pow(a,b)+ pow(c,d))\n"
   ]
  },
  {
   "cell_type": "markdown",
   "metadata": {},
   "source": [
    "4) TRIANGLE QUEST 2"
   ]
  },
  {
   "cell_type": "code",
   "execution_count": null,
   "metadata": {},
   "outputs": [],
   "source": [
    "for i in range(1,int(input())+1): print(((10**i)//9)**2)"
   ]
  },
  {
   "cell_type": "markdown",
   "metadata": {},
   "source": [
    "# ITERTOOLS"
   ]
  },
  {
   "cell_type": "markdown",
   "metadata": {},
   "source": [
    "1) ITERTOOLS.PRODUCT()  EXERCISE"
   ]
  },
  {
   "cell_type": "code",
   "execution_count": null,
   "metadata": {},
   "outputs": [],
   "source": [
    "#we have to compute the cartesian product AXB\n",
    "#import \n",
    "from itertools import product\n",
    "A = list(map(int,input().split()))\n",
    "B =list(map(int,input().split()))\n",
    "\n",
    " \n",
    "print(*sorted(list(product(A, B))))\n"
   ]
  },
  {
   "cell_type": "markdown",
   "metadata": {},
   "source": [
    "2) ITERTOOLS.COMBINATIONS() EXERCISE"
   ]
  },
  {
   "cell_type": "code",
   "execution_count": null,
   "metadata": {},
   "outputs": [],
   "source": [
    "from itertools import combinations\n",
    "\n",
    "A, B = input().split()\n",
    "[[print(''.join(x)) for x in list(combinations(sorted(A), i+1))] for i in range(int(B))]\n"
   ]
  },
  {
   "cell_type": "markdown",
   "metadata": {},
   "source": [
    "3) ITERTOOLS.PERMUTATIONS() EXERCISE"
   ]
  },
  {
   "cell_type": "code",
   "execution_count": null,
   "metadata": {},
   "outputs": [],
   "source": [
    "from itertools import permutations\n",
    "S,k=input().split()\n",
    "p=list(permutations(list(S),int(k)))\n",
    "[print(''.join(i)) for i in sorted(p)]"
   ]
  },
  {
   "cell_type": "markdown",
   "metadata": {},
   "source": [
    "4) itertools.combinations_with_replacement()"
   ]
  },
  {
   "cell_type": "code",
   "execution_count": null,
   "metadata": {},
   "outputs": [],
   "source": [
    "from itertools import combinations_with_replacement\n",
    "# k is the integer value \n",
    "# S string\n",
    "S, k = input().split()\n",
    "S = sorted(S)\n",
    "k = int(k)\n",
    "\n",
    "for i in combinations_with_replacement(S,k):\n",
    "    print(''.join(i))\n"
   ]
  },
  {
   "cell_type": "markdown",
   "metadata": {},
   "source": [
    "# COLLECTIONS"
   ]
  },
  {
   "cell_type": "markdown",
   "metadata": {},
   "source": [
    "1) DefaultDict EXERCISE"
   ]
  },
  {
   "cell_type": "code",
   "execution_count": null,
   "metadata": {},
   "outputs": [],
   "source": [
    "from collections import defaultdict\n",
    "\n",
    "e, f = map(int,input().split())\n",
    "d1 = defaultdict(list)\n",
    "for i in range(e):\n",
    "    d1[input()].append(i+1)\n",
    "for group_b in range(f):\n",
    "    keys = input()\n",
    "    print(*d1[keys]) if keys in d1 else print(\"-1\")"
   ]
  },
  {
   "cell_type": "markdown",
   "metadata": {},
   "source": [
    "2) collections.OrderedDict EXERCISE"
   ]
  },
  {
   "cell_type": "code",
   "execution_count": null,
   "metadata": {},
   "outputs": [],
   "source": [
    "from collections import OrderedDict\n",
    "N = int(input())\n",
    "od = OrderedDict()\n",
    "for i in range(N):\n",
    "    item=input().split()\n",
    "    price= int(item[-1])\n",
    "    Name = \" \".join(item[:-1])\n",
    "    if (od.get(Name)):\n",
    "        od[Name] += price\n",
    "    else:\n",
    "        od[Name] = price\n",
    "\n",
    "for i in od.keys():\n",
    "    print(i,od[i])\n",
    "        \n"
   ]
  },
  {
   "cell_type": "markdown",
   "metadata": {},
   "source": [
    "3) COLLECTIONS.COUNTER() EXERCISE"
   ]
  },
  {
   "cell_type": "code",
   "execution_count": null,
   "metadata": {},
   "outputs": [],
   "source": [
    "#A counter is a container that stores elements as dictionary keys, and their counts are stored as dictionary value\n",
    "\n",
    "#we need to form 3 input values \n",
    "from collections import Counter\n",
    "\n",
    "n = int(input())\n",
    "stock = list(map(int, input().split(' ')))\n",
    "Dict = Counter(stock)\n",
    "x = int(input())\n",
    "p =0\n",
    "for i in range(x):\n",
    "    size,prezzo = map(int,input().split(' '))\n",
    "    if Dict[size]:\n",
    "        Dict[size]-=1 #we should decrease the size by 1\n",
    "        p = p + prezzo\n",
    "print(p)\n",
    "    "
   ]
  },
  {
   "cell_type": "markdown",
   "metadata": {},
   "source": [
    "4)COLLECTIONS.NAMEDTUPLE() EXERCISE"
   ]
  },
  {
   "cell_type": "code",
   "execution_count": null,
   "metadata": {},
   "outputs": [],
   "source": [
    "from collections import namedtuple\n",
    "\n",
    "n, s_data = (int(input()), input().split())\n",
    "data = namedtuple(\"data\", s_data)\n",
    "l = [int(data._make(input().split()).MARKS) for _ in range(n)]\n",
    "print(sum(l)/len(l))\n"
   ]
  }
 ],
 "metadata": {
  "kernelspec": {
   "display_name": "Python 3.10.0 64-bit",
   "language": "python",
   "name": "python3"
  },
  "language_info": {
   "name": "python",
   "version": "3.10.0"
  },
  "orig_nbformat": 4,
  "vscode": {
   "interpreter": {
    "hash": "aee8b7b246df8f9039afb4144a1f6fd8d2ca17a180786b69acc140d282b71a49"
   }
  }
 },
 "nbformat": 4,
 "nbformat_minor": 2
}
